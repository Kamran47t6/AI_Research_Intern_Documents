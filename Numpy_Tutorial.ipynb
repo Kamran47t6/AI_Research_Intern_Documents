{
 "cells": [
  {
   "cell_type": "code",
   "execution_count": 1,
   "id": "abe13086-1899-49aa-884a-d61c0f08381f",
   "metadata": {},
   "outputs": [],
   "source": [
    "import numpy as np"
   ]
  },
  {
   "cell_type": "code",
   "execution_count": 2,
   "id": "2877c650-2f20-4aa1-9e8a-13c659998e3d",
   "metadata": {},
   "outputs": [
    {
     "name": "stdout",
     "output_type": "stream",
     "text": [
      "Hello WOrld\n"
     ]
    }
   ],
   "source": [
    "print(\"Hello WOrld\")"
   ]
  },
  {
   "cell_type": "code",
   "execution_count": 6,
   "id": "5eb74c80-e36a-45ed-8dc8-91ec260dce35",
   "metadata": {},
   "outputs": [
    {
     "name": "stdout",
     "output_type": "stream",
     "text": [
      "[[3 1 6 4 8]]\n"
     ]
    }
   ],
   "source": [
    "myarr=np.array([[3,1,6,4,8]])\n",
    "print(myarr)"
   ]
  },
  {
   "cell_type": "code",
   "execution_count": 7,
   "id": "0337c8de-1000-4bea-8460-dad47de64252",
   "metadata": {},
   "outputs": [
    {
     "data": {
      "text/plain": [
       "1"
      ]
     },
     "execution_count": 7,
     "metadata": {},
     "output_type": "execute_result"
    }
   ],
   "source": [
    "myarr[0,1]"
   ]
  },
  {
   "cell_type": "code",
   "execution_count": 9,
   "id": "e6ad8e16-ea14-49c6-9870-97204b2e341a",
   "metadata": {},
   "outputs": [
    {
     "data": {
      "text/plain": [
       "(1, 5)"
      ]
     },
     "execution_count": 9,
     "metadata": {},
     "output_type": "execute_result"
    }
   ],
   "source": [
    "myarr.shape"
   ]
  },
  {
   "cell_type": "code",
   "execution_count": 10,
   "id": "3963e73c-099c-43f0-9cd6-5407c66f8337",
   "metadata": {},
   "outputs": [
    {
     "data": {
      "text/plain": [
       "dtype('int32')"
      ]
     },
     "execution_count": 10,
     "metadata": {},
     "output_type": "execute_result"
    }
   ],
   "source": [
    "myarr.dtype"
   ]
  },
  {
   "cell_type": "code",
   "execution_count": 13,
   "id": "15c01408-cda4-44ed-9247-1851bfbed3d0",
   "metadata": {},
   "outputs": [],
   "source": [
    "listarray=np.array([[3,1,8],[4,9,7],[0,2,4]])"
   ]
  },
  {
   "cell_type": "code",
   "execution_count": 14,
   "id": "11e8b027-47e4-4104-be69-755f95c72b50",
   "metadata": {},
   "outputs": [
    {
     "data": {
      "text/plain": [
       "7"
      ]
     },
     "execution_count": 14,
     "metadata": {},
     "output_type": "execute_result"
    }
   ],
   "source": [
    "listarray[1,2]"
   ]
  },
  {
   "cell_type": "code",
   "execution_count": 15,
   "id": "e561d8fe-c1d9-436f-8e34-0eb5d593b7ce",
   "metadata": {},
   "outputs": [
    {
     "data": {
      "text/plain": [
       "0"
      ]
     },
     "execution_count": 15,
     "metadata": {},
     "output_type": "execute_result"
    }
   ],
   "source": [
    "listarray[2,0]"
   ]
  },
  {
   "cell_type": "code",
   "execution_count": 16,
   "id": "d56c6aab-44ec-4e77-bc4d-6144dc6f6fec",
   "metadata": {},
   "outputs": [
    {
     "data": {
      "text/plain": [
       "(3, 3)"
      ]
     },
     "execution_count": 16,
     "metadata": {},
     "output_type": "execute_result"
    }
   ],
   "source": [
    "listarray.shape"
   ]
  },
  {
   "cell_type": "code",
   "execution_count": 17,
   "id": "56ad11ff-b6c6-46f7-8139-12475f68376d",
   "metadata": {},
   "outputs": [
    {
     "data": {
      "text/plain": [
       "9"
      ]
     },
     "execution_count": 17,
     "metadata": {},
     "output_type": "execute_result"
    }
   ],
   "source": [
    "listarray.size"
   ]
  },
  {
   "cell_type": "code",
   "execution_count": 18,
   "id": "3a5277f9-2bb2-459f-b8b2-2121f1b29b4b",
   "metadata": {},
   "outputs": [
    {
     "data": {
      "text/plain": [
       "dtype('int32')"
      ]
     },
     "execution_count": 18,
     "metadata": {},
     "output_type": "execute_result"
    }
   ],
   "source": [
    "listarray.dtype"
   ]
  },
  {
   "cell_type": "code",
   "execution_count": 19,
   "id": "b22246d6-f635-4813-9d59-3a56a4d6f5f5",
   "metadata": {},
   "outputs": [],
   "source": [
    "lspace=np.linspace(1,5,4)"
   ]
  },
  {
   "cell_type": "code",
   "execution_count": 20,
   "id": "51f13b11-6716-43a3-8990-bdf4be7167ae",
   "metadata": {},
   "outputs": [
    {
     "data": {
      "text/plain": [
       "array([1.        , 2.33333333, 3.66666667, 5.        ])"
      ]
     },
     "execution_count": 20,
     "metadata": {},
     "output_type": "execute_result"
    }
   ],
   "source": [
    "lspace"
   ]
  },
  {
   "cell_type": "code",
   "execution_count": 21,
   "id": "68a98734-4098-4ad4-a7f2-878842476565",
   "metadata": {},
   "outputs": [
    {
     "data": {
      "text/plain": [
       "dtype('float64')"
      ]
     },
     "execution_count": 21,
     "metadata": {},
     "output_type": "execute_result"
    }
   ],
   "source": [
    "lspace.dtype"
   ]
  },
  {
   "cell_type": "code",
   "execution_count": 22,
   "id": "25888f92-9b7d-4acc-9e12-4b25bcda229e",
   "metadata": {},
   "outputs": [
    {
     "data": {
      "text/plain": [
       "(4,)"
      ]
     },
     "execution_count": 22,
     "metadata": {},
     "output_type": "execute_result"
    }
   ],
   "source": [
    "lspace.shape"
   ]
  },
  {
   "cell_type": "code",
   "execution_count": 23,
   "id": "3ceb4104-f646-4217-83c1-d28b577fa4a3",
   "metadata": {},
   "outputs": [],
   "source": [
    "emp=np.empty((4,6))"
   ]
  },
  {
   "cell_type": "code",
   "execution_count": 24,
   "id": "73b22f3a-8bc0-4cf0-ba40-8fa38d18db87",
   "metadata": {},
   "outputs": [
    {
     "data": {
      "text/plain": [
       "array([[6.23042070e-307, 4.67296746e-307, 1.69121096e-306,\n",
       "        1.24612081e-306, 1.89146896e-307, 7.56571288e-307],\n",
       "       [3.11525958e-307, 1.24610723e-306, 1.37962320e-306,\n",
       "        1.29060871e-306, 2.22518251e-306, 1.33511969e-306],\n",
       "       [1.78022342e-306, 1.05700345e-307, 3.11525958e-307,\n",
       "        1.69118108e-306, 8.06632139e-308, 1.20160711e-306],\n",
       "       [1.69119330e-306, 1.29062229e-306, 9.79094971e-307,\n",
       "        6.89804133e-307, 1.11261162e-306, 8.34443015e-308]])"
      ]
     },
     "execution_count": 24,
     "metadata": {},
     "output_type": "execute_result"
    }
   ],
   "source": [
    "emp"
   ]
  },
  {
   "cell_type": "code",
   "execution_count": 26,
   "id": "23a0860d-65dc-463e-a3be-8fa15782c4be",
   "metadata": {},
   "outputs": [],
   "source": [
    "arr=np.arange(99)"
   ]
  },
  {
   "cell_type": "code",
   "execution_count": 27,
   "id": "d7b65ad8-c20f-411b-880d-f844a733b254",
   "metadata": {},
   "outputs": [
    {
     "data": {
      "text/plain": [
       "array([ 0,  1,  2,  3,  4,  5,  6,  7,  8,  9, 10, 11, 12, 13, 14, 15, 16,\n",
       "       17, 18, 19, 20, 21, 22, 23, 24, 25, 26, 27, 28, 29, 30, 31, 32, 33,\n",
       "       34, 35, 36, 37, 38, 39, 40, 41, 42, 43, 44, 45, 46, 47, 48, 49, 50,\n",
       "       51, 52, 53, 54, 55, 56, 57, 58, 59, 60, 61, 62, 63, 64, 65, 66, 67,\n",
       "       68, 69, 70, 71, 72, 73, 74, 75, 76, 77, 78, 79, 80, 81, 82, 83, 84,\n",
       "       85, 86, 87, 88, 89, 90, 91, 92, 93, 94, 95, 96, 97, 98])"
      ]
     },
     "execution_count": 27,
     "metadata": {},
     "output_type": "execute_result"
    }
   ],
   "source": [
    "arr"
   ]
  },
  {
   "cell_type": "code",
   "execution_count": 29,
   "id": "70a80e45-a43d-4769-8a09-6fbc98c73fb0",
   "metadata": {},
   "outputs": [],
   "source": [
    "arr[2]=23"
   ]
  },
  {
   "cell_type": "raw",
   "id": "ec9557d3-2406-49f1-a084-7cfb0154c065",
   "metadata": {},
   "source": []
  },
  {
   "cell_type": "code",
   "execution_count": 30,
   "id": "06a7d906-8fa1-4cb4-92c5-9e7bbce4d3ff",
   "metadata": {},
   "outputs": [
    {
     "data": {
      "text/plain": [
       "array([ 0,  1, 23,  3,  4,  5,  6,  7,  8,  9, 10, 11, 12, 13, 14, 15, 16,\n",
       "       17, 18, 19, 20, 21, 22, 23, 24, 25, 26, 27, 28, 29, 30, 31, 32, 33,\n",
       "       34, 35, 36, 37, 38, 39, 40, 41, 42, 43, 44, 45, 46, 47, 48, 49, 50,\n",
       "       51, 52, 53, 54, 55, 56, 57, 58, 59, 60, 61, 62, 63, 64, 65, 66, 67,\n",
       "       68, 69, 70, 71, 72, 73, 74, 75, 76, 77, 78, 79, 80, 81, 82, 83, 84,\n",
       "       85, 86, 87, 88, 89, 90, 91, 92, 93, 94, 95, 96, 97, 98])"
      ]
     },
     "execution_count": 30,
     "metadata": {},
     "output_type": "execute_result"
    }
   ],
   "source": [
    "arr"
   ]
  },
  {
   "cell_type": "code",
   "execution_count": 31,
   "id": "cc95143d-963c-49dd-a862-4a36a9f33174",
   "metadata": {},
   "outputs": [
    {
     "data": {
      "text/plain": [
       "array([[ 0,  1, 23,  3,  4,  5,  6,  7,  8,  9, 10, 11, 12, 13, 14, 15,\n",
       "        16, 17, 18, 19, 20, 21, 22, 23, 24, 25, 26, 27, 28, 29, 30, 31,\n",
       "        32],\n",
       "       [33, 34, 35, 36, 37, 38, 39, 40, 41, 42, 43, 44, 45, 46, 47, 48,\n",
       "        49, 50, 51, 52, 53, 54, 55, 56, 57, 58, 59, 60, 61, 62, 63, 64,\n",
       "        65],\n",
       "       [66, 67, 68, 69, 70, 71, 72, 73, 74, 75, 76, 77, 78, 79, 80, 81,\n",
       "        82, 83, 84, 85, 86, 87, 88, 89, 90, 91, 92, 93, 94, 95, 96, 97,\n",
       "        98]])"
      ]
     },
     "execution_count": 31,
     "metadata": {},
     "output_type": "execute_result"
    }
   ],
   "source": [
    "arr.reshape(3,33)"
   ]
  },
  {
   "cell_type": "code",
   "execution_count": 32,
   "id": "36770917-607c-46ff-b60e-54694c790fe7",
   "metadata": {},
   "outputs": [],
   "source": [
    "arr=arr.ravel"
   ]
  },
  {
   "cell_type": "code",
   "execution_count": 33,
   "id": "df70662f-29db-407d-bf9f-380f870d85c9",
   "metadata": {},
   "outputs": [
    {
     "data": {
      "text/plain": [
       "<function ndarray.ravel>"
      ]
     },
     "execution_count": 33,
     "metadata": {},
     "output_type": "execute_result"
    }
   ],
   "source": [
    "arr"
   ]
  },
  {
   "cell_type": "markdown",
   "id": "ca39cba5-5acd-451b-a3b7-729426a3ea18",
   "metadata": {},
   "source": [
    "# Numpy Axix"
   ]
  },
  {
   "cell_type": "code",
   "execution_count": 34,
   "id": "3946bccb-073a-4174-863d-14370b92759b",
   "metadata": {},
   "outputs": [],
   "source": [
    "x=[[2,4,1],[3,7,9],[3,6,1]]\n",
    "arr=np.array(x)   "
   ]
  },
  {
   "cell_type": "code",
   "execution_count": null,
   "id": "e73b2269-c5ad-430f-a39f-8802d696b2b4",
   "metadata": {},
   "outputs": [],
   "source": [
    "## in 1D array axis=0 and in 2D array axis=0, axis=1"
   ]
  },
  {
   "cell_type": "code",
   "execution_count": 35,
   "id": "504fe637-f27e-4730-88ae-35131288d335",
   "metadata": {},
   "outputs": [
    {
     "data": {
      "text/plain": [
       "array([[2, 4, 1],\n",
       "       [3, 7, 9],\n",
       "       [3, 6, 1]])"
      ]
     },
     "execution_count": 35,
     "metadata": {},
     "output_type": "execute_result"
    }
   ],
   "source": [
    "arr"
   ]
  },
  {
   "cell_type": "code",
   "execution_count": 36,
   "id": "ae96c6f4-ff76-43ce-b618-1981f16d747c",
   "metadata": {},
   "outputs": [
    {
     "data": {
      "text/plain": [
       "array([ 8, 17, 11])"
      ]
     },
     "execution_count": 36,
     "metadata": {},
     "output_type": "execute_result"
    }
   ],
   "source": [
    "arr.sum(axis=0)"
   ]
  },
  {
   "cell_type": "code",
   "execution_count": 37,
   "id": "c3b174a7-a580-4b61-a8c8-2465d5b25ca1",
   "metadata": {},
   "outputs": [
    {
     "data": {
      "text/plain": [
       "array([ 7, 19, 10])"
      ]
     },
     "execution_count": 37,
     "metadata": {},
     "output_type": "execute_result"
    }
   ],
   "source": [
    "arr.sum(axis=1)"
   ]
  },
  {
   "cell_type": "code",
   "execution_count": 40,
   "id": "6931e5c3-ae68-4c50-baa4-0a3bdcaa8b37",
   "metadata": {},
   "outputs": [
    {
     "data": {
      "text/plain": [
       "array([[2, 3, 3],\n",
       "       [4, 7, 6],\n",
       "       [1, 9, 1]])"
      ]
     },
     "execution_count": 40,
     "metadata": {},
     "output_type": "execute_result"
    }
   ],
   "source": [
    "arr.T ##Transpose"
   ]
  },
  {
   "cell_type": "code",
   "execution_count": 42,
   "id": "87a03758-d893-4e72-b7dc-d35652721193",
   "metadata": {},
   "outputs": [
    {
     "name": "stdout",
     "output_type": "stream",
     "text": [
      "2\n",
      "4\n",
      "1\n",
      "3\n",
      "7\n",
      "9\n",
      "3\n",
      "6\n",
      "1\n"
     ]
    }
   ],
   "source": [
    "for item in arr.flat:\n",
    "    print(item)"
   ]
  },
  {
   "cell_type": "code",
   "execution_count": 44,
   "id": "a8c9a700-94d4-4661-88ac-c3c747ed3c44",
   "metadata": {},
   "outputs": [
    {
     "data": {
      "text/plain": [
       "36"
      ]
     },
     "execution_count": 44,
     "metadata": {},
     "output_type": "execute_result"
    }
   ],
   "source": [
    "arr.nbytes ##total bites consumed"
   ]
  },
  {
   "cell_type": "code",
   "execution_count": 47,
   "id": "4865c783-4791-487e-91b4-2edc9c73a0c1",
   "metadata": {},
   "outputs": [
    {
     "data": {
      "text/plain": [
       "3"
      ]
     },
     "execution_count": 47,
     "metadata": {},
     "output_type": "execute_result"
    }
   ],
   "source": [
    "OneDaaray=np.array([4,8,2,34,1])\n",
    "OneDaaray.argmax()   ##shows index of maximum elemnent"
   ]
  },
  {
   "cell_type": "code",
   "execution_count": 48,
   "id": "e4af4996-de1c-4154-b792-8069c9642567",
   "metadata": {},
   "outputs": [
    {
     "data": {
      "text/plain": [
       "4"
      ]
     },
     "execution_count": 48,
     "metadata": {},
     "output_type": "execute_result"
    }
   ],
   "source": [
    "OneDaaray=np.array([4,8,2,34,1])\n",
    "OneDaaray.argmin()   ##shows index of min elemnent"
   ]
  },
  {
   "cell_type": "code",
   "execution_count": 49,
   "id": "ebf32ea2-b4a5-4d95-b3b8-f16d0396ad98",
   "metadata": {},
   "outputs": [
    {
     "data": {
      "text/plain": [
       "array([4, 2, 0, 1, 3], dtype=int64)"
      ]
     },
     "execution_count": 49,
     "metadata": {},
     "output_type": "execute_result"
    }
   ],
   "source": [
    "OneDaaray.argsort() ##shows the indexes of sort numbers"
   ]
  },
  {
   "cell_type": "code",
   "execution_count": 50,
   "id": "c8230b23-9cbb-4a4b-ad24-ee5340cbfe53",
   "metadata": {},
   "outputs": [
    {
     "data": {
      "text/plain": [
       "2"
      ]
     },
     "execution_count": 50,
     "metadata": {},
     "output_type": "execute_result"
    }
   ],
   "source": [
    "TwoDarray=np.array([[3,2,1],[5,8,4],[9,2,1]])\n",
    "TwoDarray.argmin()"
   ]
  },
  {
   "cell_type": "code",
   "execution_count": 51,
   "id": "44e97786-d6cf-42fb-af69-86886af9a95d",
   "metadata": {},
   "outputs": [
    {
     "data": {
      "text/plain": [
       "6"
      ]
     },
     "execution_count": 51,
     "metadata": {},
     "output_type": "execute_result"
    }
   ],
   "source": [
    "TwoDarray=np.array([[3,2,1],[5,8,4],[9,2,1]])\n",
    "TwoDarray.argmax()"
   ]
  },
  {
   "cell_type": "code",
   "execution_count": 52,
   "id": "bd361475-6b99-48e1-818b-ce13ad13ced3",
   "metadata": {},
   "outputs": [
    {
     "data": {
      "text/plain": [
       "array([2, 1, 1], dtype=int64)"
      ]
     },
     "execution_count": 52,
     "metadata": {},
     "output_type": "execute_result"
    }
   ],
   "source": [
    "TwoDarray=np.array([[3,2,1],\n",
    "                    [5,8,4],\n",
    "                    [9,2,1]])\n",
    "TwoDarray.argmax(axis=0)"
   ]
  },
  {
   "cell_type": "code",
   "execution_count": 53,
   "id": "32d01afa-f0be-4b00-ae0e-fe16bc533ca5",
   "metadata": {},
   "outputs": [
    {
     "data": {
      "text/plain": [
       "array([0, 0, 0], dtype=int64)"
      ]
     },
     "execution_count": 53,
     "metadata": {},
     "output_type": "execute_result"
    }
   ],
   "source": [
    "TwoDarray=np.array([[3,2,1],\n",
    "                    [5,8,4],\n",
    "                    [9,2,1]])\n",
    "TwoDarray.argmin(axis=0)"
   ]
  },
  {
   "cell_type": "code",
   "execution_count": 54,
   "id": "4b336ba9-8261-4f50-89f8-60fcd1d5ae44",
   "metadata": {},
   "outputs": [
    {
     "data": {
      "text/plain": [
       "array([2, 2, 2], dtype=int64)"
      ]
     },
     "execution_count": 54,
     "metadata": {},
     "output_type": "execute_result"
    }
   ],
   "source": [
    "TwoDarray=np.array([[3,2,1],\n",
    "                    [5,8,4],\n",
    "                    [9,2,1]])\n",
    "TwoDarray.argmin(axis=1)"
   ]
  },
  {
   "cell_type": "code",
   "execution_count": 60,
   "id": "fb621327-990b-43d0-91a5-cb67f5e0feae",
   "metadata": {},
   "outputs": [
    {
     "data": {
      "text/plain": [
       "array([[3, 2, 1],\n",
       "       [5, 8, 4],\n",
       "       [9, 2, 1]])"
      ]
     },
     "execution_count": 60,
     "metadata": {},
     "output_type": "execute_result"
    }
   ],
   "source": [
    "TwoDarray.reshape(3,3)  ## this will basically shape the matrix into following rows, columns format"
   ]
  },
  {
   "cell_type": "code",
   "execution_count": 61,
   "id": "a1c3c6c0-4322-417e-b1ff-d3624eb99bee",
   "metadata": {},
   "outputs": [],
   "source": [
    "aa1=np.array([[1,2,3],[3,2,1],[3,5,1]])"
   ]
  },
  {
   "cell_type": "code",
   "execution_count": 62,
   "id": "0c495e4a-fa19-42f9-a24d-b3ea8b7417a7",
   "metadata": {},
   "outputs": [],
   "source": [
    "aa2=np.array([[0,1,2],[2,4,2],[0,5,3]])"
   ]
  },
  {
   "cell_type": "code",
   "execution_count": 63,
   "id": "a6cddc7e-df5c-4c5a-8b04-c0e398dbe872",
   "metadata": {},
   "outputs": [
    {
     "data": {
      "text/plain": [
       "array([[ 1,  3,  5],\n",
       "       [ 5,  6,  3],\n",
       "       [ 3, 10,  4]])"
      ]
     },
     "execution_count": 63,
     "metadata": {},
     "output_type": "execute_result"
    }
   ],
   "source": [
    "aa1+aa2"
   ]
  },
  {
   "cell_type": "code",
   "execution_count": 64,
   "id": "9af20d0e-fc4d-49e0-b62c-fa5909e8bd05",
   "metadata": {},
   "outputs": [
    {
     "data": {
      "text/plain": [
       "array([[ 1,  1,  1],\n",
       "       [ 1, -2, -1],\n",
       "       [ 3,  0, -2]])"
      ]
     },
     "execution_count": 64,
     "metadata": {},
     "output_type": "execute_result"
    }
   ],
   "source": [
    "aa1-aa2"
   ]
  },
  {
   "cell_type": "code",
   "execution_count": 65,
   "id": "963fcd93-c4c8-46b2-9305-cc077284e95b",
   "metadata": {},
   "outputs": [
    {
     "data": {
      "text/plain": [
       "array([[ 0,  2,  6],\n",
       "       [ 6,  8,  2],\n",
       "       [ 0, 25,  3]])"
      ]
     },
     "execution_count": 65,
     "metadata": {},
     "output_type": "execute_result"
    }
   ],
   "source": [
    "aa1*aa2"
   ]
  },
  {
   "cell_type": "code",
   "execution_count": 67,
   "id": "4a345bf6-c264-4ba8-8da2-e945fe071180",
   "metadata": {},
   "outputs": [
    {
     "data": {
      "text/plain": [
       "array([[1.        , 1.41421356, 1.73205081],\n",
       "       [1.73205081, 1.41421356, 1.        ],\n",
       "       [1.73205081, 2.23606798, 1.        ]])"
      ]
     },
     "execution_count": 67,
     "metadata": {},
     "output_type": "execute_result"
    }
   ],
   "source": [
    "np.sqrt(aa1)"
   ]
  },
  {
   "cell_type": "code",
   "execution_count": 69,
   "id": "4869a645-0297-458f-b2fd-beecfbc38c3a",
   "metadata": {},
   "outputs": [
    {
     "data": {
      "text/plain": [
       "21"
      ]
     },
     "execution_count": 69,
     "metadata": {},
     "output_type": "execute_result"
    }
   ],
   "source": [
    "aa1.sum()"
   ]
  },
  {
   "cell_type": "code",
   "execution_count": 70,
   "id": "a5df1643-7e62-438d-9061-671a280a8996",
   "metadata": {},
   "outputs": [
    {
     "data": {
      "text/plain": [
       "1"
      ]
     },
     "execution_count": 70,
     "metadata": {},
     "output_type": "execute_result"
    }
   ],
   "source": [
    "aa1.min()"
   ]
  },
  {
   "cell_type": "code",
   "execution_count": 71,
   "id": "3a620069-9636-4625-beaa-08ec6de181e7",
   "metadata": {},
   "outputs": [
    {
     "data": {
      "text/plain": [
       "(array([2], dtype=int64), array([1], dtype=int64))"
      ]
     },
     "execution_count": 71,
     "metadata": {},
     "output_type": "execute_result"
    }
   ],
   "source": [
    "np.where(aa1>3) #shows index where values are greater than 3"
   ]
  },
  {
   "cell_type": "code",
   "execution_count": 73,
   "id": "d9252045-31a6-45ed-848a-b98a54db57fc",
   "metadata": {},
   "outputs": [
    {
     "data": {
      "text/plain": [
       "7"
      ]
     },
     "execution_count": 73,
     "metadata": {},
     "output_type": "execute_result"
    }
   ],
   "source": [
    "np.count_nonzero(aa2)"
   ]
  },
  {
   "cell_type": "markdown",
   "id": "6d77629c-6dff-4450-aa44-cadc74b680a0",
   "metadata": {},
   "source": [
    "# Storage difference bw numpy array and python array"
   ]
  },
  {
   "cell_type": "code",
   "execution_count": 76,
   "id": "fcbb112d-7732-4478-aa92-2adbbd0b591e",
   "metadata": {},
   "outputs": [],
   "source": [
    "import sys"
   ]
  },
  {
   "cell_type": "code",
   "execution_count": 74,
   "id": "0d2a484b-e906-4b7a-a4af-5eb319150c84",
   "metadata": {},
   "outputs": [],
   "source": [
    "py_arr=[3,2,14]"
   ]
  },
  {
   "cell_type": "code",
   "execution_count": 77,
   "id": "e56346b1-39e9-452d-a36e-cfc0754db593",
   "metadata": {},
   "outputs": [],
   "source": [
    "np_arr=np.array(py_arr)"
   ]
  },
  {
   "cell_type": "code",
   "execution_count": 78,
   "id": "99fb38d7-0b73-40b0-af9b-2aca9fb53890",
   "metadata": {},
   "outputs": [
    {
     "data": {
      "text/plain": [
       "84"
      ]
     },
     "execution_count": 78,
     "metadata": {},
     "output_type": "execute_result"
    }
   ],
   "source": [
    "sys.getsizeof(1)* len(py_arr)"
   ]
  },
  {
   "cell_type": "code",
   "execution_count": 80,
   "id": "259c53d4-d430-41f0-9f15-ec73bfc5b2da",
   "metadata": {},
   "outputs": [
    {
     "data": {
      "text/plain": [
       "12"
      ]
     },
     "execution_count": 80,
     "metadata": {},
     "output_type": "execute_result"
    }
   ],
   "source": [
    "np_arr.itemsize * np_arr.size"
   ]
  },
  {
   "cell_type": "code",
   "execution_count": 81,
   "id": "f55737c6-71ca-42c2-85fa-98bf6c08a229",
   "metadata": {},
   "outputs": [
    {
     "name": "stdout",
     "output_type": "stream",
     "text": [
      "[9 8 7]\n"
     ]
    }
   ],
   "source": [
    "myarr=np.array([9,8,7])\n",
    "print(myarr)"
   ]
  },
  {
   "cell_type": "code",
   "execution_count": 83,
   "id": "3c60bfcf-a357-4470-a92c-c3c5f64fe249",
   "metadata": {},
   "outputs": [
    {
     "name": "stdout",
     "output_type": "stream",
     "text": [
      "9\n",
      "8\n",
      "7\n"
     ]
    }
   ],
   "source": [
    "for i in myarr:\n",
    "    print(i)"
   ]
  },
  {
   "cell_type": "code",
   "execution_count": 85,
   "id": "0449bbb3-7717-433f-bcc9-72d5cfe614c9",
   "metadata": {},
   "outputs": [
    {
     "data": {
      "text/plain": [
       "8"
      ]
     },
     "execution_count": 85,
     "metadata": {},
     "output_type": "execute_result"
    }
   ],
   "source": [
    "myarr[1]"
   ]
  },
  {
   "cell_type": "code",
   "execution_count": null,
   "id": "add8a2b6-e109-4013-b485-ba39a4c8ca16",
   "metadata": {},
   "outputs": [],
   "source": []
  }
 ],
 "metadata": {
  "kernelspec": {
   "display_name": "Python 3 (ipykernel)",
   "language": "python",
   "name": "python3"
  },
  "language_info": {
   "codemirror_mode": {
    "name": "ipython",
    "version": 3
   },
   "file_extension": ".py",
   "mimetype": "text/x-python",
   "name": "python",
   "nbconvert_exporter": "python",
   "pygments_lexer": "ipython3",
   "version": "3.11.5"
  }
 },
 "nbformat": 4,
 "nbformat_minor": 5
}
